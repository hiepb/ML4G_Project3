{
 "cells": [
  {
   "cell_type": "code",
   "execution_count": 13,
   "id": "ed64da9c",
   "metadata": {},
   "outputs": [],
   "source": [
    "import sys\n",
    "import torch\n",
    "import pickle\n",
    "import numpy as np\n",
    "import torch_nn as nn\n",
    "# import files in folder util\n",
    "sys.path.insert(0, 'util/')\n",
    "import block \n",
    "import graph_generator as g\n"
   ]
  },
  {
   "cell_type": "code",
   "execution_count": 34,
   "id": "c77f144c",
   "metadata": {},
   "outputs": [],
   "source": [
    "file_name_subgraph = \"data/set_100_subgraphs_p05_size20_Voc3_2017-10-31_10-23-00_.txt\"\n",
    "file_name_clustering = \"data/set_100_clustering_maps_p05_q01_size5_25_2017-10-31_10-25-00_.txt\"\n",
    "with open(file_name_subgraph, 'rb') as fp:\n",
    "        subgraph_trainx = pickle.load(fp)\n",
    "subgraph_eval = subgraph_trainx[:100]\n",
    "with open(file_name_clustering, 'rb') as fp:\n",
    "        clustering_trainx = pickle.load(fp)\n",
    "clustering_eval = clustering_trainx[:100]"
   ]
  },
  {
   "cell_type": "code",
   "execution_count": null,
   "id": "8c96c7d9",
   "metadata": {},
   "outputs": [],
   "source": [
    "class GatedCovNetCell(nn.Module):\n",
    "    def __init__(self, dim_in, dim_out):\n",
    "        super(GatedCovNetCell, self).__init__()\n",
    "        \n",
    "        # conv1\n",
    "        self.A_1 = nn.Linear(dim_in, dim_out, bias=False) \n",
    "        self.B_1 = nn.Linear(dim_in, dim_out, bias=False) \n",
    "  \n",
    "        self.U_1 = nn.Linear(dim_in, dim_out, bias=False) \n",
    "        self.V_1 = nn.Linear(dim_in, dim_out, bias=False) \n",
    "        self.bU_1 = torch.nn.Parameter( torch.FloatTensor(dim_out), requires_grad=True )\n",
    "        self.bV_1 = torch.nn.Parameter( torch.FloatTensor(dim_out), requires_grad=True )\n",
    "        \n",
    "        \n",
    "        # conv2\n",
    "        self.A_2 = nn.Linear(dim_in, dim_out, bias=False) \n",
    "        self.B_2 = nn.Linear(dim_in, dim_out, bias=False) \n",
    "  \n",
    "        self.U_2 = nn.Linear(dim_in, dim_out, bias=False) \n",
    "        self.V_2 = nn.Linear(dim_in, dim_out, bias=False) \n",
    "        self.bU_2 = torch.nn.Parameter( torch.FloatTensor(dim_out), requires_grad=True )\n",
    "        self.bV_2 = torch.nn.Parameter( torch.FloatTensor(dim_out), requires_grad=True )\n",
    "        \n",
    "        #batchnorm\n",
    "        self.b1 = torch.nn.BatchNorm1d(dim_out)\n",
    "        self.b2 = torch.nn.BatchNorm1d(dim_out)\n",
    "        \n",
    "        #residual layer\n",
    "        self.R = nn.Linear(dim_in, dim_out, bias=False) \n",
    "        \n",
    "        #Non-linearity\n",
    "        self.ReLU = torch.nn.ReLU()\n",
    "\n",
    "    '''    \n",
    "    def init_weights():\n",
    "    '''\n",
    "    def forward(self, x, E_neighbour2node, E_2_node2neighbour):\n",
    "        \n",
    "        h_i = self.A(x)\n",
    "        h_j = self.B(x)\n",
    "        \n",
    "        eta = self.ReLU(torch.nn.mul(h_i, E_neighbour2node) + torch.nn.mul(h_j, E_2_node2neighbour))\n",
    "        \n",
    "        "
   ]
  }
 ],
 "metadata": {
  "kernelspec": {
   "display_name": "Python 3 (ipykernel)",
   "language": "python",
   "name": "python3"
  },
  "language_info": {
   "codemirror_mode": {
    "name": "ipython",
    "version": 3
   },
   "file_extension": ".py",
   "mimetype": "text/x-python",
   "name": "python",
   "nbconvert_exporter": "python",
   "pygments_lexer": "ipython3",
   "version": "3.8.11"
  }
 },
 "nbformat": 4,
 "nbformat_minor": 5
}
